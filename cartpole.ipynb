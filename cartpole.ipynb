{
  "nbformat": 4,
  "nbformat_minor": 0,
  "metadata": {
    "colab": {
      "provenance": [],
      "include_colab_link": true
    },
    "kernelspec": {
      "name": "python3",
      "display_name": "Python 3"
    },
    "language_info": {
      "name": "python"
    }
  },
  "cells": [
    {
      "cell_type": "markdown",
      "metadata": {
        "id": "view-in-github",
        "colab_type": "text"
      },
      "source": [
        "<a href=\"https://colab.research.google.com/github/luvbingchillin/A-New-Story/blob/main/cartpole.ipynb\" target=\"_parent\"><img src=\"https://colab.research.google.com/assets/colab-badge.svg\" alt=\"Open In Colab\"/></a>"
      ]
    },
    {
      "cell_type": "markdown",
      "source": [
        "# Tutorial and Sample Code for Balancing a Pole on a Cart"
      ],
      "metadata": {
        "id": "ZauhjPSfX7pI"
      }
    },
    {
      "cell_type": "markdown",
      "source": [
        "## Installing dependencies:"
      ],
      "metadata": {
        "id": "UBiYOoesYMvr"
      }
    },
    {
      "cell_type": "code",
      "execution_count": 1,
      "metadata": {
        "colab": {
          "base_uri": "https://localhost:8080/"
        },
        "id": "PbgnVwZmX5uW",
        "outputId": "3acb7f45-6893-4bc4-ff62-322b3073036f"
      },
      "outputs": [
        {
          "output_type": "stream",
          "name": "stdout",
          "text": [
            "\r0% [Working]\r            \rHit:1 http://archive.ubuntu.com/ubuntu jammy InRelease\n",
            "\r0% [Waiting for headers] [Connecting to security.ubuntu.com (185.125.190.83)] [Connected to cloud.r-\r                                                                                                    \rHit:2 http://archive.ubuntu.com/ubuntu jammy-updates InRelease\n",
            "\r0% [Waiting for headers] [Connecting to security.ubuntu.com (185.125.190.83)] [Connected to cloud.r-\r                                                                                                    \rHit:3 http://archive.ubuntu.com/ubuntu jammy-backports InRelease\n",
            "\r0% [Connecting to security.ubuntu.com (185.125.190.83)] [Connected to cloud.r-project.org (108.138.1\r                                                                                                    \rHit:4 https://cloud.r-project.org/bin/linux/ubuntu jammy-cran40/ InRelease\n",
            "\r0% [Connecting to security.ubuntu.com (185.125.190.83)] [Connected to r2u.stat.illinois.edu (192.17.\r                                                                                                    \rHit:5 https://r2u.stat.illinois.edu/ubuntu jammy InRelease\n",
            "Hit:6 http://security.ubuntu.com/ubuntu jammy-security InRelease\n",
            "Hit:7 https://developer.download.nvidia.com/compute/cuda/repos/ubuntu2204/x86_64  InRelease\n",
            "Hit:8 https://ppa.launchpadcontent.net/deadsnakes/ppa/ubuntu jammy InRelease\n",
            "Hit:9 https://ppa.launchpadcontent.net/graphics-drivers/ppa/ubuntu jammy InRelease\n",
            "Hit:10 https://ppa.launchpadcontent.net/ubuntugis/ppa/ubuntu jammy InRelease\n",
            "Reading package lists... Done\n",
            "W: Skipping acquire of configured file 'main/source/Sources' as repository 'https://r2u.stat.illinois.edu/ubuntu jammy InRelease' does not seem to provide it (sources.list entry misspelt?)\n",
            "Reading package lists... Done\n",
            "Building dependency tree... Done\n",
            "Reading state information... Done\n",
            "E: Unable to locate package python-opengl\n",
            "Requirement already satisfied: pip in /usr/local/lib/python3.11/dist-packages (25.0.1)\n",
            "Requirement already satisfied: setuptools in /usr/local/lib/python3.11/dist-packages (76.1.0)\n",
            "Requirement already satisfied: pyvirtualdisplay in /usr/local/lib/python3.11/dist-packages (3.0)\n",
            "Requirement already satisfied: gym in /usr/local/lib/python3.11/dist-packages (0.25.2)\n",
            "Requirement already satisfied: numpy>=1.18.0 in /usr/local/lib/python3.11/dist-packages (from gym) (1.26.0)\n",
            "Requirement already satisfied: cloudpickle>=1.2.0 in /usr/local/lib/python3.11/dist-packages (from gym) (3.1.1)\n",
            "Requirement already satisfied: gym_notices>=0.0.4 in /usr/local/lib/python3.11/dist-packages (from gym) (0.0.8)\n",
            "Requirement already satisfied: pygame in /usr/local/lib/python3.11/dist-packages (2.6.1)\n",
            "Gym version: 0.25.2\n",
            "Pygame version: 2.6.1\n",
            "NumPy version: 1.26.0\n"
          ]
        },
        {
          "output_type": "stream",
          "name": "stderr",
          "text": [
            "/usr/local/lib/python3.11/dist-packages/pygame/pkgdata.py:25: DeprecationWarning: pkg_resources is deprecated as an API. See https://setuptools.pypa.io/en/latest/pkg_resources.html\n",
            "  from pkg_resources import resource_stream, resource_exists\n",
            "/usr/local/lib/python3.11/dist-packages/pkg_resources/__init__.py:3147: DeprecationWarning: Deprecated call to `pkg_resources.declare_namespace('google')`.\n",
            "Implementing implicit namespace packages (as specified in PEP 420) is preferred to `pkg_resources.declare_namespace`. See https://setuptools.pypa.io/en/latest/references/keywords.html#keyword-namespace-packages\n",
            "  declare_namespace(pkg)\n",
            "/usr/local/lib/python3.11/dist-packages/pkg_resources/__init__.py:3147: DeprecationWarning: Deprecated call to `pkg_resources.declare_namespace('google.cloud')`.\n",
            "Implementing implicit namespace packages (as specified in PEP 420) is preferred to `pkg_resources.declare_namespace`. See https://setuptools.pypa.io/en/latest/references/keywords.html#keyword-namespace-packages\n",
            "  declare_namespace(pkg)\n",
            "/usr/local/lib/python3.11/dist-packages/pkg_resources/__init__.py:3147: DeprecationWarning: Deprecated call to `pkg_resources.declare_namespace('sphinxcontrib')`.\n",
            "Implementing implicit namespace packages (as specified in PEP 420) is preferred to `pkg_resources.declare_namespace`. See https://setuptools.pypa.io/en/latest/references/keywords.html#keyword-namespace-packages\n",
            "  declare_namespace(pkg)\n"
          ]
        }
      ],
      "source": [
        "!apt-get update -y\n",
        "!apt-get install -y xvfb python-opengl ffmpeg libsdl2-dev libsdl2-image-dev libsdl2-mixer-dev libsdl2-ttf-dev cmake\n",
        "!pip install --upgrade pip setuptools\n",
        "!pip install pyvirtualdisplay\n",
        "!pip install gym\n",
        "!pip install pygame --upgrade\n",
        "\n",
        "# Verify versions\n",
        "import gym\n",
        "import pygame\n",
        "import numpy as np\n",
        "print(\"Gym version:\", gym.__version__)\n",
        "print(\"Pygame version:\", pygame.__version__)\n",
        "print(\"NumPy version:\", np.__version__)"
      ]
    },
    {
      "cell_type": "code",
      "source": [],
      "metadata": {
        "id": "GzG4wnmBPpOi"
      },
      "execution_count": 1,
      "outputs": []
    },
    {
      "cell_type": "markdown",
      "source": [
        "## Importing dependencies and define helper functions"
      ],
      "metadata": {
        "id": "RwKbYeTgbaTA"
      }
    },
    {
      "cell_type": "code",
      "source": [
        "import gym\n",
        "from gym import logger as gymlogger\n",
        "from gym.wrappers import RecordVideo\n",
        "gymlogger.set_level(40) #error only\n",
        "import tensorflow as tf\n",
        "import numpy as np\n",
        "import random\n",
        "import matplotlib\n",
        "import matplotlib.pyplot as plt\n",
        "%matplotlib inline\n",
        "import math\n",
        "import glob\n",
        "import io\n",
        "import base64\n",
        "from IPython.display import HTML\n",
        "from IPython import display as ipythondisplay\n",
        "\n",
        "def show_video():\n",
        "  mp4list = glob.glob('video/*.mp4')\n",
        "  if len(mp4list) > 0:\n",
        "    mp4 = mp4list[0]\n",
        "    video = io.open(mp4, 'r+b').read()\n",
        "    encoded = base64.b64encode(video)\n",
        "    ipythondisplay.display(HTML(data='''<video alt=\"test\" autoplay\n",
        "                loop controls style=\"height: 400px;\">\n",
        "                <source src=\"data:video/mp4;base64,{0}\" type=\"video/mp4\" />\n",
        "             </video>'''.format(encoded.decode('ascii'))))\n",
        "  else:\n",
        "    print(\"Could not find video\")"
      ],
      "metadata": {
        "id": "j6KpgCLGYWmj"
      },
      "execution_count": 2,
      "outputs": []
    },
    {
      "cell_type": "markdown",
      "source": [
        "## Tutorial: Loading CartPole environment"
      ],
      "metadata": {
        "id": "ehbqP9CXbmo7"
      }
    },
    {
      "cell_type": "code",
      "source": [
        "env = gym.make(\"CartPole-v1\")"
      ],
      "metadata": {
        "id": "Go12dH4qbwBy"
      },
      "execution_count": 3,
      "outputs": []
    },
    {
      "cell_type": "markdown",
      "source": [
        "We can check the action and observation space of this environment. Discrete(2) means that there are two valid discrete actions: 0 & 1."
      ],
      "metadata": {
        "id": "9XZ9g3xrcAXE"
      }
    },
    {
      "cell_type": "code",
      "source": [
        "print(env.action_space)"
      ],
      "metadata": {
        "colab": {
          "base_uri": "https://localhost:8080/"
        },
        "id": "ytxvVmLdcRyw",
        "outputId": "911ec93f-fb38-4511-d86c-121210fae696"
      },
      "execution_count": 4,
      "outputs": [
        {
          "output_type": "stream",
          "name": "stdout",
          "text": [
            "Discrete(2)\n"
          ]
        }
      ]
    },
    {
      "cell_type": "markdown",
      "source": [
        "The observation space is given below. The first two arrays define the min and max values of the 4 observed values, corresponding to cart position, velocity and pole angle, angular velocity."
      ],
      "metadata": {
        "id": "pVXGWi_Ncfg-"
      }
    },
    {
      "cell_type": "code",
      "source": [
        "print(env.observation_space)"
      ],
      "metadata": {
        "colab": {
          "base_uri": "https://localhost:8080/"
        },
        "id": "DyqHr9I5cdkX",
        "outputId": "8245e488-3359-4139-e638-b54c76e40fd5"
      },
      "execution_count": 5,
      "outputs": [
        {
          "output_type": "stream",
          "name": "stdout",
          "text": [
            "Box([-4.8000002e+00 -3.4028235e+38 -4.1887903e-01 -3.4028235e+38], [4.8000002e+00 3.4028235e+38 4.1887903e-01 3.4028235e+38], (4,), float32)\n"
          ]
        }
      ]
    },
    {
      "cell_type": "markdown",
      "source": [
        "We call each round of the pole-balancing game an \"episode\". At the start of each episode, make sure the environment is reset, which chooses a random initial state, e.g., pole slightly tilted to the right. This initialization can be achieved by the code below, which returns the observation of the initial state."
      ],
      "metadata": {
        "id": "HFOdaU2Gdyg0"
      }
    },
    {
      "cell_type": "code",
      "source": [
        "observation = env.reset()\n",
        "print(\"Initial observations:\", observation)"
      ],
      "metadata": {
        "colab": {
          "base_uri": "https://localhost:8080/"
        },
        "id": "VMr6qAqxdOsm",
        "outputId": "bef53ad9-6a08-482e-8b8d-9a8cd772539d"
      },
      "execution_count": 6,
      "outputs": [
        {
          "output_type": "stream",
          "name": "stdout",
          "text": [
            "Initial observations: [ 0.00260683  0.02444972 -0.04225363  0.0457581 ]\n"
          ]
        }
      ]
    },
    {
      "cell_type": "markdown",
      "source": [
        "For the CartPole environment, there are two possible actions: 0 for pushing to the left and 1 for pushing to the right. For example, we can push the cart to the left using code below, which returns the new observation, the current reward, an indicator of whether the game ends, and some additional information (not used in this project). For CartPole, the game ends when the pole is significantly tilted or you manage to balance the pole for 500 steps. You get exactly 1 reward for each step before the game ends (i.e., max cumulative reward is 500)."
      ],
      "metadata": {
        "id": "qnG2QdfbeZrI"
      }
    },
    {
      "cell_type": "code",
      "source": [
        "observation, reward, done, info = env.step(0)\n",
        "print(\"New observations after choosing action 0:\", observation)\n",
        "print(\"Reward for this step:\", reward)\n",
        "print(\"Is this round done?\", done)"
      ],
      "metadata": {
        "colab": {
          "base_uri": "https://localhost:8080/"
        },
        "id": "MmfMDvyYdWGk",
        "outputId": "fd263bb4-6771-4732-ed61-47e62dc3555d"
      },
      "execution_count": 7,
      "outputs": [
        {
          "output_type": "stream",
          "name": "stdout",
          "text": [
            "New observations after choosing action 0: [ 0.00309583 -0.17004167 -0.04133847  0.32481593]\n",
            "Reward for this step: 1.0\n",
            "Is this round done? False\n"
          ]
        },
        {
          "output_type": "stream",
          "name": "stderr",
          "text": [
            "/usr/local/lib/python3.11/dist-packages/gym/utils/passive_env_checker.py:241: DeprecationWarning: `np.bool8` is a deprecated alias for `np.bool_`.  (Deprecated NumPy 1.24)\n",
            "  if not isinstance(terminated, (bool, np.bool8)):\n"
          ]
        }
      ]
    },
    {
      "cell_type": "markdown",
      "source": [
        "Now we can play a full round of the game using a naive strategy (always choosing action 0), and show the cumulative reward in the round. Note that reward returned by env.step(*) corresponds to the reward for current step. So we have to accumulate the reward for each step. Clearly, the naive strategy performs poorly by surviving only a dozen of steps."
      ],
      "metadata": {
        "id": "tj0zCh59fhBb"
      }
    },
    {
      "cell_type": "code",
      "source": [
        "observation = env.reset()\n",
        "cumulative_reward = 0\n",
        "done = False\n",
        "while not done:\n",
        "    observation, reward, done, info = env.step(0)\n",
        "    cumulative_reward += reward\n",
        "print(\"Cumulative reward for this round:\", cumulative_reward)"
      ],
      "metadata": {
        "colab": {
          "base_uri": "https://localhost:8080/"
        },
        "id": "AVucQVRwf6Jm",
        "outputId": "e084318f-66f7-4900-8dcc-ea7d9cb9921b"
      },
      "execution_count": 8,
      "outputs": [
        {
          "output_type": "stream",
          "name": "stdout",
          "text": [
            "Cumulative reward for this round: 11.0\n"
          ]
        }
      ]
    },
    {
      "cell_type": "markdown",
      "source": [
        "## Task 1: Development of an RL agent"
      ],
      "metadata": {
        "id": "2oIzK9SzhlWN"
      }
    },
    {
      "cell_type": "code",
      "source": [
        "# Load environment\n",
        "env = gym.make(\"CartPole-v1\", render_mode=\"rgb_array\")\n",
        "env = RecordVideo(env, './video', episode_trigger=lambda x: True)\n",
        "\n",
        "# Adaptive heuristic agent\n",
        "class AdaptiveAgent:\n",
        "    def __init__(self):\n",
        "        self.threshold = 0.0  # Initial angle threshold\n",
        "        self.last_reward = 0\n",
        "\n",
        "    def choose_action(self, observation):\n",
        "        pole_angle = observation[2]\n",
        "        if pole_angle < self.threshold:\n",
        "            return 0  # Push left\n",
        "        return 1  # Push right\n",
        "\n",
        "    def update_threshold(self, reward):\n",
        "        if reward > self.last_reward and self.last_reward > 50:  # If improving and decent performance\n",
        "            self.threshold *= 0.95  # Fine-tune threshold\n",
        "        elif reward < 50:  # If failing badly\n",
        "            self.threshold += 0.01 * np.sign(self.threshold)  # Adjust in direction of current bias\n",
        "        self.last_reward = reward\n",
        "\n",
        "agent = AdaptiveAgent()\n",
        "\n",
        "# Run multiple episodes\n",
        "for episode in range(5):\n",
        "    observation = env.reset()\n",
        "    cumulative_reward = 0\n",
        "    done = False\n",
        "    while not done:\n",
        "        action = agent.choose_action(observation)\n",
        "        observation, reward, done, info = env.step(action)\n",
        "        cumulative_reward += reward\n",
        "    agent.update_threshold(cumulative_reward)\n",
        "    print(f\"Episode {episode + 1}, Cumulative reward: {cumulative_reward}\")\n",
        "\n",
        "env.close()\n",
        "show_video()  # Shows the last episode"
      ],
      "metadata": {
        "id": "N9ZmGuHCTE8_",
        "outputId": "e0bea34c-d59f-40aa-87eb-e24c8b182e52",
        "colab": {
          "base_uri": "https://localhost:8080/",
          "height": 549
        }
      },
      "execution_count": 14,
      "outputs": [
        {
          "output_type": "stream",
          "name": "stderr",
          "text": [
            "/usr/local/lib/python3.11/dist-packages/gym/utils/passive_env_checker.py:241: DeprecationWarning: `np.bool8` is a deprecated alias for `np.bool_`.  (Deprecated NumPy 1.24)\n",
            "  if not isinstance(terminated, (bool, np.bool8)):\n"
          ]
        },
        {
          "output_type": "stream",
          "name": "stdout",
          "text": [
            "Episode 1, Cumulative reward: 41.0\n",
            "Episode 2, Cumulative reward: 41.0\n",
            "Episode 3, Cumulative reward: 57.0\n",
            "Episode 4, Cumulative reward: 51.0\n",
            "Episode 5, Cumulative reward: 39.0\n"
          ]
        },
        {
          "output_type": "display_data",
          "data": {
            "text/plain": [
              "<IPython.core.display.HTML object>"
            ],
            "text/html": [
              "<video alt=\"test\" autoplay \n",
              "                loop controls style=\"height: 400px;\">\n",
              "                <source src=\"data:video/mp4;base64,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\" type=\"video/mp4\" />\n",
              "             </video>"
            ]
          },
          "metadata": {}
        }
      ]
    },
    {
      "cell_type": "markdown",
      "source": [
        "For Task 1, we can show the observation and chosen action below:"
      ],
      "metadata": {
        "id": "RAi7KKwNiegR"
      }
    },
    {
      "cell_type": "code",
      "source": [
        "# Run one episode with observation and action logging\n",
        "observation = env.reset()\n",
        "cumulative_reward = 0\n",
        "done = False\n",
        "step = 0\n",
        "\n",
        "print(\"Step | Observation                              | Action\")\n",
        "print(\"-------------------------------------------------------\")\n",
        "while not done:\n",
        "    action = agent.choose_action(observation)\n",
        "    # Format observation for readability (4 floats)\n",
        "    obs_str = f\"[{observation[0]: .4f}, {observation[1]: .4f}, {observation[2]: .4f}, {observation[3]: .4f}]\"\n",
        "    print(f\"{step:4d} | {obs_str} | {action}\")\n",
        "\n",
        "    observation, reward, done, info = env.step(action)\n",
        "    cumulative_reward += reward\n",
        "    step += 1\n",
        "\n",
        "agent.update_threshold(cumulative_reward)\n",
        "print(\"-------------------------------------------------------\")\n",
        "print(f\"Episode finished. Cumulative reward: {cumulative_reward}\")\n",
        "\n",
        "env.close()\n",
        "show_video()  # Display the video of the episode"
      ],
      "metadata": {
        "colab": {
          "base_uri": "https://localhost:8080/",
          "height": 1000
        },
        "id": "ae2ia-vUiNKJ",
        "outputId": "af9c6ff0-520c-4417-f151-aa6913955a34"
      },
      "execution_count": 15,
      "outputs": [
        {
          "output_type": "stream",
          "name": "stdout",
          "text": [
            "Step | Observation                              | Action\n",
            "-------------------------------------------------------\n",
            "   0 | [ 0.0328, -0.0335, -0.0138,  0.0212] | 0\n",
            "   1 | [ 0.0321, -0.2284, -0.0134,  0.3095] | 0\n",
            "   2 | [ 0.0275, -0.4234, -0.0072,  0.5979] | 0\n",
            "   3 | [ 0.0191, -0.6184,  0.0048,  0.8883] | 1\n",
            "   4 | [ 0.0067, -0.4233,  0.0225,  0.5971] | 1\n",
            "   5 | [-0.0018, -0.2285,  0.0345,  0.3116] | 1\n",
            "   6 | [-0.0064, -0.0339,  0.0407,  0.0300] | 1\n",
            "   7 | [-0.0070,  0.1606,  0.0413, -0.2495] | 1\n",
            "   8 | [-0.0038,  0.3551,  0.0363, -0.5289] | 1\n",
            "   9 | [ 0.0033,  0.5497,  0.0258, -0.8099] | 1\n",
            "  10 | [ 0.0143,  0.7444,  0.0096, -1.0944] | 1\n",
            "  11 | [ 0.0292,  0.9394, -0.0123, -1.3841] | 0\n",
            "  12 | [ 0.0480,  0.7445, -0.0400, -1.0953] | 0\n",
            "  13 | [ 0.0628,  0.5499, -0.0619, -0.8154] | 0\n",
            "  14 | [ 0.0738,  0.3557, -0.0782, -0.5428] | 0\n",
            "  15 | [ 0.0810,  0.1617, -0.0891, -0.2758] | 0\n",
            "  16 | [ 0.0842, -0.0320, -0.0946, -0.0125] | 0\n",
            "  17 | [ 0.0835, -0.2256, -0.0949,  0.2489] | 0\n",
            "  18 | [ 0.0790, -0.4193, -0.0899,  0.5102] | 0\n",
            "  19 | [ 0.0706, -0.6130, -0.0797,  0.7733] | 0\n",
            "  20 | [ 0.0584, -0.8070, -0.0642,  1.0399] | 0\n",
            "  21 | [ 0.0422, -1.0012, -0.0434,  1.3118] | 0\n",
            "  22 | [ 0.0222, -1.1957, -0.0172,  1.5905] | 0\n",
            "  23 | [-0.0017, -1.3907,  0.0146,  1.8778] | 1\n",
            "  24 | [-0.0295, -1.1957,  0.0522,  1.5897] | 1\n",
            "  25 | [-0.0534, -1.0012,  0.0840,  1.3138] | 1\n",
            "  26 | [-0.0734, -0.8073,  0.1103,  1.0485] | 1\n",
            "  27 | [-0.0896, -0.6138,  0.1312,  0.7924] | 1\n",
            "  28 | [-0.1019, -0.4207,  0.1471,  0.5437] | 1\n",
            "  29 | [-0.1103, -0.2279,  0.1580,  0.3007] | 1\n",
            "  30 | [-0.1148, -0.0353,  0.1640,  0.0617] | 1\n",
            "  31 | [-0.1155,  0.1571,  0.1652, -0.1751] | 1\n",
            "  32 | [-0.1124,  0.3495,  0.1617, -0.4114] | 1\n",
            "  33 | [-0.1054,  0.5420,  0.1535, -0.6491] | 1\n",
            "  34 | [-0.0946,  0.7347,  0.1405, -0.8898] | 1\n",
            "  35 | [-0.0799,  0.9277,  0.1227, -1.1352] | 1\n",
            "  36 | [-0.0613,  1.1210,  0.1000, -1.3870] | 1\n",
            "  37 | [-0.0389,  1.3147,  0.0723, -1.6468] | 1\n",
            "  38 | [-0.0126,  1.5090,  0.0393, -1.9162] | 1\n",
            "  39 | [ 0.0176,  1.7036,  0.0010, -2.1964] | 1\n",
            "  40 | [ 0.0516,  1.8987, -0.0429, -2.4888] | 0\n",
            "  41 | [ 0.0896,  1.7040, -0.0927, -2.2095] | 0\n",
            "  42 | [ 0.1237,  1.5099, -0.1369, -1.9468] | 0\n",
            "  43 | [ 0.1539,  1.3165, -0.1758, -1.6995] | 0\n",
            "-------------------------------------------------------\n",
            "Episode finished. Cumulative reward: 44.0\n"
          ]
        },
        {
          "output_type": "display_data",
          "data": {
            "text/plain": [
              "<IPython.core.display.HTML object>"
            ],
            "text/html": [
              "<video alt=\"test\" autoplay \n",
              "                loop controls style=\"height: 400px;\">\n",
              "                <source src=\"data:video/mp4;base64,AAAAIGZ0eXBpc29tAAACAGlzb21pc28yYXZjMW1wNDEAAAAIZnJlZQAAGBRtZGF0AAACrgYF//+q3EXpvebZSLeWLNgg2SPu73gyNjQgLSBjb3JlIDE2MyByMzA2MCA1ZGI2YWE2IC0gSC4yNjQvTVBFRy00IEFWQyBjb2RlYyAtIENvcHlsZWZ0IDIwMDMtMjAyMSAtIGh0dHA6Ly93d3cudmlkZW9sYW4ub3JnL3gyNjQuaHRtbCAtIG9wdGlvbnM6IGNhYmFjPTEgcmVmPTMgZGVibG9jaz0xOjA6MCBhbmFseXNlPTB4MzoweDExMyBtZT1oZXggc3VibWU9NyBwc3k9MSBwc3lfcmQ9MS4wMDowLjAwIG1peGVkX3JlZj0xIG1lX3JhbmdlPTE2IGNocm9tYV9tZT0xIHRyZWxsaXM9MSA4eDhkY3Q9MSBjcW09MCBkZWFkem9uZT0yMSwxMSBmYXN0X3Bza2lwPTEgY2hyb21hX3FwX29mZnNldD0tMiB0aHJlYWRzPTMgbG9va2FoZWFkX3RocmVhZHM9MSBzbGljZWRfdGhyZWFkcz0wIG5yPTAgZGVjaW1hdGU9MSBpbnRlcmxhY2VkPTAgYmx1cmF5X2NvbXBhdD0wIGNvbnN0cmFpbmVkX2ludHJhPTAgYmZyYW1lcz0zIGJfcHlyYW1pZD0yIGJfYWRhcHQ9MSBiX2JpYXM9MCBkaXJlY3Q9MSB3ZWlnaHRiPTEgb3Blbl9nb3A9MCB3ZWlnaHRwPTIga2V5aW50PTI1MCBrZXlpbnRfbWluPTI1IHNjZW5lY3V0PTQwIGludHJhX3JlZnJlc2g9MCByY19sb29rYWhlYWQ9NDAgcmM9Y3JmIG1idHJlZT0xIGNyZj0yMy4wIHFjb21wPTAuNjAgcXBtaW49MCBxcG1heD02OSBxcHN0ZXA9NCBpcF9yYXRpbz0xLjQwIGFxPTE6MS4wMACAAAAB2GWIhAAv//72rvzLK0cLlS4dWXuzUfLoSXL9iDB9aAAAAwAAAwAAJuKiZ0WFMeJsgAAALmAIWElDyDzETFWKgSvGXweHI2AUB54tbTFBX28BL7yduDLyuEzb1uaVYbm/4vnzHUv0uPgFv2MLCF0Cs0u9jHrIQuFYbUFyc8NUlwZ1+vOd2c8PAmEiEdLrCoqbd/YqtynB8tvBssLhdAEbBea5kLDWozLAijGmpWye+qvQAMV3xpx1Mp3XrrI08pQAG0uW0r5D+3zPxhAd+hwFpjwDwGMnjwlnW5smec5Yg7UvM2Eu8CgBM+M6tJ8xBK9LIOyrTmcz+a0QZPg/IpCUbKDMz/vaiT/yL16aUfW14Gxkn2fQwnlY65KmVO8NMUivlK5bBonZ4eUHhKkju2hi1GYU1a9J66PUVlAhsO3hUStsHEzgOSz721UN3gl9Y+kmsFjzLPrPY6LK1KRbnV6PeCcRyVhlWNrK8waZ2DxzO6ia99oAttNJat11dYnDne3hRBIkLThrAedR0P0dYHvczTU6UDNUSsQBXa6TnVolKVgalE94Y2iN+SQPWPYtToLwkbn61V8ff8MMRoUI4cTqCw8EzlCxef90eWNAqn0UYiAAAAMAAAMAAlMAAABsQZojbEM//p4QAABFdRWHqWdHaRBCRWLRVf7xBV9XXI52HAnZ3oEEmJbJ/JFKkjGRMVK2MaoHBTiseLgG8PIqf2XQfY8Shd8ld9yyxUbe20YaNSJ9DduQgU6TCjKiEy03s5GOLXTmpJlm26nAAAAAKEGeQXiEfwAAFr49ZnxJKKqfqZj/TKi+hnozXwqQ5nKEbvPqt5UgEvEAAAAhAZ5iakf/AAAjvwQnEslprVU4hW/B6ULrGABeygIb8M+AAAAAu0GaZ0moQWiZTAhn//6eEAAARWSXySEVABYdL7IWxWKHvEVFekUsDrljVn/dny3OzihxTnw8Y4Z1m5yhMHoIR+tJFpK2JnjPhzqC1yy3nP+xfsoYUDnG93DkdtKEqlQNSHBXUxYt99kP5jRN2Z/QiTLMzwQ/+ZV2rlKQtpoN3Rb+gEmpZ+wlqICKhItt/t2iyEDP1Omx5cNlqCWTx2+c/TpfQGh5jHNvTN+ErEhrZvJEQJBhJ/oSXubbOPEAAAA7QZ6FRREsI/8AABa7it6YZnWmmBg6k9sU1IRHcDWcOtAwhXQTYhrVFTFqliQlmmRj/HIfrEJJ1BxH0qEAAAAqAZ6kdEf/AAAjwz4FHH52hBwRIK5yo8UIA+VKtkXESXm80qGzlD40I7phAAAAMQGepmpH/wAAI72EHfzfgkHx6fdc7QjL5m8y6CIq7h8bKz87fqYDqWIpfWGWnuwnGpUAAABtQZqrSahBbJlMCF///oywAABGELygIfE0yyU4QZoGqKxncM08MthND42AJTjOBam1dF2llxX4lGonMAdLoym1dR162nLjBRKtPNq0Ptfaq0oEyRYRPyfVxvu3wLHbHcsU5lNA/IL5VZ5kXRRJHQAAADdBnslFFSwj/wAAFruK3o6BHGDUaPvzKoOmtXeeyDWnWRuPpGG/43VK7YJfX9KcWQ2R899llVICAAAAIgGe6HRH/wAAI6xCVCUUYr8QX31dDzzr4fcUXFCGyma8iQEAAAAtAZ7qakf/AAAjvx0q/I2/uXCQmM5/TJf359K5I1msKeRRokMJCr+rmQHQqvBgAAAAlkGa7kmoQWyZTAhn//6eEAAARURqdO35QASEtCC1JfLWbF1omBd26RVD8CX/GMJn39/7ISAQRAPh0bMMOYph4J0HFbUIsY3uSCMK5mYE/q108HEL6D8u1ffaTJwPos8aIO8qYMaJHxmiNGmORsIzOfrgPfhKOCpffNuF2mL0RVSG8Y5Iaa0FUsdvMTka0NzLnPGUza89pAAAADNBnwxFFSwj/wAAFrMsgzS88XcdP1hXjYGbIP+77RO6ZRg7Gqw1fPbQG5cO1JeWX6S+dmEAAAAuAZ8takf/AAAjvxj0coPqr+bAUJ5LdDjSmRubQZkH0ZdrqkSLxGmI1TfGt2rtgQAAAOtBmzJJqEFsmUwIX//+jLAAAEYCE4RgB0dxYAINTaIR8A70yLSgKqdJXBVnvnOR7Kro5vmJ6K8pkzXfBDd9JA8gTCIUWrWCahpmwcTZ4ENuBZF7NqAr2Pu1xX9uj5jab8mV9pKwTfd6h0i1z4zxc8v95Y+/G2lQHOmIY2tzO6vZIcjoRYHZyebyl/kj05/5yahV0Wh75dKOhvnpEPo/myfNxqFVSQ3pcuucDOILqwR5yjBPswtkHsPUlv/oFSLg2zPNYQRmtlQzDuecYtWiqkRiEdvjhYyjFi48smqke4WSfyZCO84M5yutDdiBAAAAVkGfUEUVLCP/AAAWpL+H6ndrBHA6qbU5Cnjx97/xozPC90C+Jbyv+NBFLQgSKNGG2ljCGQKDo1CyZRPQnV2TInbW7ugvCy7a4tkSW6Hsg8PL4zHZ4XAIAAAARgGfb3RH/wAAI8C5mHxcW3y1YF0jy4sBI7AZe86kJ85z/ZMKJza31nAt0t6QvqOboALL3DjMnJUb/xvIUDrB+F4OCLTLbgEAAABEAZ9xakf/AAAjscwNaGt/2fuzvW/gouo5pfGe3pkvuqfoIALRoDPHczexcy0wUNZQfb60L6Myg8t8jcQc1/M1CCZja8EAAABrQZt2SahBbJlMCF///oywAAAaot9YDwnuYuaLvQbY/MZEHUJrBERMSwtUjKOQc0iqV4hxhsfADhqLB30rKUKHLjU6Hh/iloKlmbuuhUl1oZWF1fnm+tWecf8v3AYB+N9Wa6VHKspTTGKqYugAAAA8QZ+URRUsI/8AABaoNn65AD/gYiad4JNrEJp/r5o61/Y5Nhtvr97qpRT4OwUQAh6HFOAQbKKB3GYAWiHuAAAALgGfs3RH/wAAI8MXY0K2Ijpm1Zh1i07Z5FQ/oHKYNgoCLRpWzJP+9xvSP9liK18AAAAZAZ+1akf/AAAjvwQrVDPiz2fOCVZdoTBgQAAAAKNBm7pJqEFsmUwIX//+jLAAAEYlDYzDSwBEwO0wZ1IaMpjdaDBNGD7JXUt/cBYsbtZ0zZ3fNEUbbLxbKjSLh/3Swq6/D1UHhddFm5iKEbR8Y52gOMBYsHYVhH4HdXxb5AC5q+UH4mzWeaPlJaKGfqBaLxThAPfzm1KZXI4YV8o/UuJKFACDNRv81q3fKfWNnuisfjhm+CSukJlmS6xEMMu8Q6IxAAAAS0Gf2EUVLCP/AAAWu4p+VDx7oZI1qp2ehSE4Bhf5/zZrT89MXBv3o3EeD0a7tBfOgcfGgGHBeK/2nrTY0DzDODgBMnTWPUnSQCH2vQAAADEBn/d0R/8AACPDF2GpodQcZdCgKXn8l7mVZqTFiYrSyr7NQx9uQLbYAACgRnMmvMiwAAAAOgGf+WpH/wAAI78ZLJltmK6TGfxBqsurgYt0exCf76/JLmJww1YShrHyJyFxK0I3NnKUX6mVa4mTOvEAAADAQZv8SahBbJlMFEwv//6MsAAARgHyfzOP8CY/wA99YVDUdosPOyD9msHeRqj7cN+TMKdYkYkbQtJfaRgmkKWGJFcZjQwaxWJfQKZyhvduUsPl10F6oILfSJk4I/bCpZtxKcWiS+2xIkdmp7rl87ERpvkRuIy2ZxsNpnkrD6x1U7p5vur7vL5pHWznVArP+QxlCzdzkLcLH1WXszVe+qHWUwmiu62nEmHINpg25VelgWR/ftVBGUIcWqpVFmPEeBWAAAAAOAGeG2pH/wAAI65gQyPk/qAFbeOxhQ9OIYVYSaQcjbR4I2wfQKnSZnDv/enbdO9MxggjaEPDCBtBAAABM0GaH0nhClJlMCF//oywAABIB7kAqfGlpNNIv4iil7frfBwm4nYp9y2FzAwawZJUolZTY3BoeCUAyL5nna2PUs8hX/o4bgotPvqKnsNIssNBRQNd546gPTd1W52vH0ATalbK+R87UCokJ/eR0s6sOuiWEyY5wbJIXFL+MUOWR8fC6JnLtCxAyRC/8yxwjbb7OasLnciuqxd5ejY7LWF1vhBsraoe7XVzVIZSU2ANetHonEZJN3DMY8tbpABc0mdCE7dVKTqJPYhuJYCnZtawhCFH0LPgKlzbUkEGAN0iDQSjgqlrvqzaM+BwU+DZF3oxgokIgzuzyyh/f8+U0pnBlx2vkUKhaCGbM2ZhKVOiE+W8kiegmyW0f9BMfX3gj1XjTtIcjLdrPUhzRAK5WMPPQbnQJssAAABSQZ49RTRMI/8AABdMQxapc5nln2WP8F3MdptaZcAvTn3BADcoSMZaKMnRk6h+MEMHZnLN7mTuk45M5wXb+lt9jU8JYz3eNrWu/VJwvvBmgq5HbgAAAEcBnl5qR/8AACS+x0Zmc/uF5LbPSZop68P3pkQhlvSwWh4a8zmq0KPRLxXcH8eoZIIFtW++ChGQGmcHG6uODmLeeNPRnUvPBgAAAL1BmkNJqEFomUwIX//+jLAAAEgCAkwbPO8SqQwj2oAC/tPmHcJJ4E7K7TL3yqSXbrLUgj9nkqTPY4RueoGd3zBTLU3fhzyI9cqApV1fHIjeLpsYmQvAH5yNAvnL99lF2p+q3mYRprgL67DgDZIBb9bqJZrLA+yvNno7qHYCzM+wCBAaC+Z4AUpGTpwtzO/Q6Bt8mKhezbgyf+V65Xv41+A/4GOUCD1kVzaqtfaDgZ5kqP80bvU8jtYndAWIs3MAAABaQZ5hRREsI/8AABdDR7cNBT+hcqL1q4FIA4D782nzeVijDWt4kY1F9lFnlWH5lAS4Z9GMO54ZvxmKZccwbCAEsgrFZnEpX0nSXXASDQd4oWOMWnmx20/6nA82AAAAQAGegHRH/wAAJMLmbWEMy5e3rGiHoy9vVLSkYhr2MmyLede8m5RSorn3F7ffAibwIqlTl2vxZwYjIAKlUrA28TcAAAA8AZ6Cakf/AAAkvvieOQ91+zqlUuS3idYl9LP6KOaQ2+7mt7D19ngqDhiQTH2P4FbvigW66Ncx1TABQflAAAAARUGah0moQWyZTAhf//6MsAAASALP8AWuJVXyfVrnJlXgOYJxfvJWRF/Km9JcoGgGIV6OGeVNQvpb/RbF9M/Wqi6oHYMVTwAAAEBBnqVFFSwj/wAAF0w+s5d6r0UGn1KGbjxkQ8s2jGnBCezPMcb6jpiBER35/OC0z2ZMAIPhXaVugdOuzfTiLl5RAAAAKAGexHRH/wAAI8M+DYSdCUTJEHSeN07xSC9RYbxuDbNs7r1aA3IRRb0AAAAoAZ7Gakf/AAAksisHrto9EIKHP4KZYWH9A/MNI2Bj3EOiXaADZARPgQAAAI9BmslJqEFsmUwUTC///oywAABIDnkDADoQ+FQei6g8c9ZQDkhWOtKdMhVCDGnxm6vdiB52Dz8YwpxJgTk4MikOXOBgLSsbwS+2vyLzBFBwicfvM1gaIF1V2ec07TSWTCSuMJT3NbYEjbIuiQYU9rj/oxRPU7hsGiMvNWAw5ubZeQlVFZlckziZnNBgT0V34QAAAD4BnuhqR/8AACS/HSxzGhBbm8bJEkDV3C9nXVzAMHM3O1rivRBKdS6H8ADTBwupYA8vZR0MD5unkQnNcUuCwAAAAJZBmuxJ4QpSZTAhX/44QAABFSodBX+0a4i5BwVSO1A6tGUcEtgBAaBJ0fsxj6FM7wdjH+odj5y2IsCT1wRz9iHOyuvAo+67Np4xYRb1YhNPFeoPsuw1/860AHpMG8bXYCpCvLKuYzIiWeJqbvF4CtMwv0UUuH3257esQd0B06/KssMeyEqpmQ3D0ftxYGMEE4Df14wyjWEAAABIQZ8KRTRMI/8AABdMQ8++b+vYApEsjb6Ri1fxSKkWQrb/NeXgx8WOC7TToN/dccU2D8GUHUF98Wbiq0bRY6lKVYvvCo/hWrbAAAAASAGfK2pH/wAAJLHMLibOsLlSqEAIEnsgvcqScIcAcWVmQManEq71LfKMqYA5FBplQ/lDMSKx0Zunh1ZwAoAPsIYALpZ5uhlHbgAAAJ5Bmy5JqEFomUwU8K/+OEAAARU6NGTXXkXBe9QBWoFe/jdkQ6Clhd9MDBd8n4FhafLJwxQ664Awtj57/+bZSnd9Fzp7A+uzb+kfCfLDCmajzs7quCQ9cEfivQb4Hfra+3IdSWi20yPNTo5z45WIFgXTV3YUK+dvA58trQDJzdJA0/mpehQFsOyfn15jLY6RGwp9MV6iJ/DHE8x1GJ/qgQAAAEYBn01qR/8AACSuMS/Wcs8wQAtx0yGlFIkV7sgeto2Dvr0o36fQi26NWNytyJFtPTcOKtJZMHS/7y85oJi+jM+QdxptbmzBAAAAl0GbT0nhClJlMCFf/jhAAAEU+tyNgy3xb2NADdS3R+CGEd1PMsMWqpCHyK/CMXvVigOwzf41Zzt+5Ck4hQedlvkXKjZnocaqulDcyegxHQ4v2Y7CyA20Gxv3q33D8MQrfvXCQjhJr4z+IujTCOGBw2lKEKtYhVaYf3peqbw4wrppKQhxHrvQ7quQIHGFGD/t/mpbtteeIvEAAACvQZtwSeEOiZTAhX/+OEAAAQ20738xADcnqNz70Dxv/z3/Zpg1/637Rz6yGAb9tGnPPRXvM0/95uhMSCKxmbRJBYFKkDYA7LmCV0MMz1jU3StEiud4AKr9kxJOV624Md5Z35VKjqiALMq/iF3ek4UDCAMXUekIgOBstO8Zq3jeU3x7A+sjpstrgaSa783yN1O0y+rE7bJkD1UOyF3Gh1SEKrY9t6opqDyWsi/bMKGvfAAAAK9Bm5JJ4Q8mUwURPCP//eEAAAQ0baBsNIo2qgCJA33Ql1qbs4UaoI4bEjK3B6peyLqx/W6F5orqb7bHHuCa7F9dHqVtbeqZKf0JtVv87LdUIKYjzqmXPhGnl2gGaVZ9eQMspW+Qukei/f3/iO2m5itm5NkUKH/hYwwS8tISfMPGGGzgBxmi1nmjJV85bPgj5T4RdVUWIfaz37K9QYVNPPtzHCzin3gf4brZcWl6y+iAAAAAWQGfsWpH/wAAJL3OLhYTEsYCU+Ttxyi710kACtXyND/kc3DiYJSjH2uVYSgUsvteHXuOIMv6sEu61b1mrOnu+3h06Y27FtTd+5Cjryd4l5CTLKYxw2OZ3DRZAAAAX0Gbs0nhDyZTAj///IQAAA/dlNFZFACw9irh6eIREuUZNW73dh1yBTvtKMBbNJPLQbv4flCHjiDPtEILdnQPZwDnWtZZSNdWBmUuzY+4yU2xIhfX0SbfrJQP05DuZ5TAAAAFc21vb3YAAABsbXZoZAAAAAAAAAAAAAAAAAAAA+gAAAQQAAEAAAEAAAAAAAAAAAAAAAABAAAAAAAAAAAAAAAAAAAAAQAAAAAAAAAAAAAAAAAAQAAAAAAAAAAAAAAAAAAAAAAAAAAAAAAAAAAAAAAAAAIAAASddHJhawAAAFx0a2hkAAAAAwAAAAAAAAAAAAAAAQAAAAAAAAQQAAAAAAAAAAAAAAAAAAAAAAABAAAAAAAAAAAAAAAAAAAAAQAAAAAAAAAAAAAAAAAAQAAAAAJYAAABkAAAAAAAJGVkdHMAAAAcZWxzdAAAAAAAAAABAAAEEAAAAgAAAQAAAAAEFW1kaWEAAAAgbWRoZAAAAAAAAAAAAAAAAAAAMgAAADQAVcQAAAAAAC1oZGxyAAAAAAAAAAB2aWRlAAAAAAAAAAAAAAAAVmlkZW9IYW5kbGVyAAAAA8BtaW5mAAAAFHZtaGQAAAABAAAAAAAAAAAAAAAkZGluZgAAABxkcmVmAAAAAAAAAAEAAAAMdXJsIAAAAAEAAAOAc3RibAAAALBzdHNkAAAAAAAAAAEAAACgYXZjMQAAAAAAAAABAAAAAAAAAAAAAAAAAAAAAAJYAZAASAAAAEgAAAAAAAAAAQAAAAAAAAAAAAAAAAAAAAAAAAAAAAAAAAAAAAAAAAAAABj//wAAADZhdmNDAWQAH//hABlnZAAfrNlAmDPl4QAAAwABAAADAGQPGDGWAQAGaOvjyyLA/fj4AAAAABRidHJ0AAAAAAAAuPkAALj5AAAAGHN0dHMAAAAAAAAAAQAAADQAAAEAAAAAFHN0c3MAAAAAAAAAAQAAAAEAAAGIY3R0cwAAAAAAAAAvAAAAAQAAAgAAAAABAAAEAAAAAAIAAAEAAAAAAQAABQAAAAABAAACAAAAAAEAAAAAAAAAAQAAAQAAAAABAAAFAAAAAAEAAAIAAAAAAQAAAAAAAAABAAABAAAAAAEAAAQAAAAAAgAAAQAAAAABAAAFAAAAAAEAAAIAAAAAAQAAAAAAAAABAAABAAAAAAEAAAUAAAAAAQAAAgAAAAABAAAAAAAAAAEAAAEAAAAAAQAABQAAAAABAAACAAAAAAEAAAAAAAAAAQAAAQAAAAABAAADAAAAAAEAAAEAAAAAAQAABAAAAAACAAABAAAAAAEAAAUAAAAAAQAAAgAAAAABAAAAAAAAAAEAAAEAAAAAAQAABQAAAAABAAACAAAAAAEAAAAAAAAAAQAAAQAAAAABAAADAAAAAAEAAAEAAAAAAQAABAAAAAACAAABAAAAAAEAAAMAAAAAAQAAAQAAAAACAAACAAAAAAEAAAMAAAAAAQAAAQAAAAABAAACAAAAABxzdHNjAAAAAAAAAAEAAAABAAAANAAAAAEAAADkc3RzegAAAAAAAAAAAAAANAAABI4AAABwAAAALAAAACUAAAC/AAAAPwAAAC4AAAA1AAAAcQAAADsAAAAmAAAAMQAAAJoAAAA3AAAAMgAAAO8AAABaAAAASgAAAEgAAABvAAAAQAAAADIAAAAdAAAApwAAAE8AAAA1AAAAPgAAAMQAAAA8AAABNwAAAFYAAABLAAAAwQAAAF4AAABEAAAAQAAAAEkAAABEAAAALAAAACwAAACTAAAAQgAAAJoAAABMAAAATAAAAKIAAABKAAAAmwAAALMAAACzAAAAXQAAAGMAAAAUc3RjbwAAAAAAAAABAAAAMAAAAGJ1ZHRhAAAAWm1ldGEAAAAAAAAAIWhkbHIAAAAAAAAAAG1kaXJhcHBsAAAAAAAAAAAAAAAALWlsc3QAAAAlqXRvbwAAAB1kYXRhAAAAAQAAAABMYXZmNTguNzYuMTAw\" type=\"video/mp4\" />\n",
              "             </video>"
            ]
          },
          "metadata": {}
        }
      ]
    },
    {
      "cell_type": "markdown",
      "source": [
        "## Task 2: Demonstrate the effectiveness of the RL agent"
      ],
      "metadata": {
        "id": "-XtIQ0Rti1gm"
      }
    },
    {
      "cell_type": "markdown",
      "source": [
        "For this task, use the agent developed in Task 1 to play the game for 100 episodes (refer to tutorial for how to play a round), record the cumulative reward for each round, and plot the reward for each round. A sample plotting code is given below. Note that you must include code to play for 100 episodes and use the code to obtain round_results for plotting. DO NOT record the round results in advance and paste the results to the notebook."
      ],
      "metadata": {
        "id": "djBEShf0kGI4"
      }
    },
    {
      "cell_type": "code",
      "source": [
        "episode_results = np.random.randint(150, 250, size=100)\n",
        "plt.plot(episode_results)\n",
        "plt.title('Cumulative reward for each episode')\n",
        "plt.ylabel('Cumulative reward')\n",
        "plt.xlabel('episode')\n",
        "plt.show()"
      ],
      "metadata": {
        "colab": {
          "base_uri": "https://localhost:8080/",
          "height": 472
        },
        "id": "RZrCKywQi6CE",
        "outputId": "69c11b8a-c884-46e1-dfd2-075a00b2803f"
      },
      "execution_count": 11,
      "outputs": [
        {
          "output_type": "display_data",
          "data": {
            "text/plain": [
              "<Figure size 640x480 with 1 Axes>"
            ],
            "image/png": "[encoded data removed]"
          },
          "metadata": {}
        }
      ]
    },
    {
      "cell_type": "markdown",
      "source": [
        "Print the average reward over the 100 episodes."
      ],
      "metadata": {
        "id": "XndSYH7wlvn7"
      }
    },
    {
      "cell_type": "code",
      "source": [
        "print(\"Average cumulative reward:\", episode_results.mean())\n",
        "print(\"Is my agent good enough?\", episode_results.mean() > 195)"
      ],
      "metadata": {
        "colab": {
          "base_uri": "https://localhost:8080/"
        },
        "id": "pOiOp9OYlo5Y",
        "outputId": "e84db085-3ce4-4ba1-e332-0592c109d4cd"
      },
      "execution_count": 12,
      "outputs": [
        {
          "output_type": "stream",
          "name": "stdout",
          "text": [
            "Average cumulative reward: 196.34\n",
            "Is my agent good enough? True\n"
          ]
        }
      ]
    },
    {
      "cell_type": "markdown",
      "source": [
        "## Task 3: Render one episode played by the agent"
      ],
      "metadata": {
        "id": "Yg0DCT38lFA6"
      }
    },
    {
      "cell_type": "markdown",
      "source": [
        "Plug your agent to the code below to obtain rendered result."
      ],
      "metadata": {
        "id": "vx1awMr9lc_w"
      }
    },
    {
      "cell_type": "code",
      "source": [
        "env = RecordVideo(gym.make(\"CartPole-v1\"), \"./video\")\n",
        "observation = env.reset()\n",
        "while True:\n",
        "    env.render()\n",
        "    #your agent goes here\n",
        "    action = rand_policy_agent(observation)\n",
        "    observation, reward, done, info = env.step(action)\n",
        "    if done:\n",
        "      break;\n",
        "env.close()\n",
        "show_video()"
      ],
      "metadata": {
        "colab": {
          "base_uri": "https://localhost:8080/",
          "height": 457
        },
        "id": "LYyavfbIa47D",
        "outputId": "0b10a5a5-6862-42c9-b7af-7bdfe241ffc5"
      },
      "execution_count": 13,
      "outputs": [
        {
          "output_type": "stream",
          "name": "stderr",
          "text": [
            "/usr/local/lib/python3.11/dist-packages/gym/utils/passive_env_checker.py:241: DeprecationWarning: `np.bool8` is a deprecated alias for `np.bool_`.  (Deprecated NumPy 1.24)\n",
            "  if not isinstance(terminated, (bool, np.bool8)):\n"
          ]
        },
        {
          "output_type": "display_data",
          "data": {
            "text/plain": [
              "<IPython.core.display.HTML object>"
            ],
            "text/html": [
              "<video alt=\"test\" autoplay \n",
              "                loop controls style=\"height: 400px;\">\n",
              "                <source src=\"data:video/mp4;base64,AAAAIGZ0eXBpc29tAAACAGlzb21pc28yYXZjMW1wNDEAAAAIZnJlZQAACaptZGF0AAACrgYF//+q3EXpvebZSLeWLNgg2SPu73gyNjQgLSBjb3JlIDE2MyByMzA2MCA1ZGI2YWE2IC0gSC4yNjQvTVBFRy00IEFWQyBjb2RlYyAtIENvcHlsZWZ0IDIwMDMtMjAyMSAtIGh0dHA6Ly93d3cudmlkZW9sYW4ub3JnL3gyNjQuaHRtbCAtIG9wdGlvbnM6IGNhYmFjPTEgcmVmPTMgZGVibG9jaz0xOjA6MCBhbmFseXNlPTB4MzoweDExMyBtZT1oZXggc3VibWU9NyBwc3k9MSBwc3lfcmQ9MS4wMDowLjAwIG1peGVkX3JlZj0xIG1lX3JhbmdlPTE2IGNocm9tYV9tZT0xIHRyZWxsaXM9MSA4eDhkY3Q9MSBjcW09MCBkZWFkem9uZT0yMSwxMSBmYXN0X3Bza2lwPTEgY2hyb21hX3FwX29mZnNldD0tMiB0aHJlYWRzPTMgbG9va2FoZWFkX3RocmVhZHM9MSBzbGljZWRfdGhyZWFkcz0wIG5yPTAgZGVjaW1hdGU9MSBpbnRlcmxhY2VkPTAgYmx1cmF5X2NvbXBhdD0wIGNvbnN0cmFpbmVkX2ludHJhPTAgYmZyYW1lcz0zIGJfcHlyYW1pZD0yIGJfYWRhcHQ9MSBiX2JpYXM9MCBkaXJlY3Q9MSB3ZWlnaHRiPTEgb3Blbl9nb3A9MCB3ZWlnaHRwPTIga2V5aW50PTI1MCBrZXlpbnRfbWluPTI1IHNjZW5lY3V0PTQwIGludHJhX3JlZnJlc2g9MCByY19sb29rYWhlYWQ9NDAgcmM9Y3JmIG1idHJlZT0xIGNyZj0yMy4wIHFjb21wPTAuNjAgcXBtaW49MCBxcG1heD02OSBxcHN0ZXA9NCBpcF9yYXRpbz0xLjQwIGFxPTE6MS4wMACAAAACEWWIhAAv//72rvzLK0cLlS4dWXuzUfLoSXL9iDB9aAAAAwAAAwAAJuKiZ0WFMeJsgAAALmAIWElDyDzETFWKgSvGXweETYA6FRsJOY7cAqcM6waNi00Qf2Eznl/M99u/7hiPmPhbtFi6OJcpy3+HUhtnW8OSSJJOGmHaEYfF9xF3JSt2rwXas/+PjP8o9myM6/tAEowKl4OkvJ0eQeLqP2BScXVSGO9grP0+h+c+N7lMbokrCPszs7+kY2MtJKw7Mf4i7m4qoGQgRWKk4F1J38MxTxePmXw5nXjMyY2x31e938DGuKk5Z7OiOAIrOkr2sjDhwUlB1krzmhPejFPOMGntmTUnyOdyMBSml1twYNrmbDUmbuHrQOdNGGvK5iQ8u6HWAEEoID9RxP/egBHJ0Gv5w/DYybVGUaTWuB2X2YYof4UpQsIzVI3VFrq3DfzfvgcCeaSbdCCEF/OzkYdbYN8AvM+SeP4nZN4e+HES333svxrfaICHjqM8JcPRUes38sQAoa5hrhBdplGFrzs98o6oKpAgZjSD/fqjmhWobSq5JldJDLR4m3t7zzXvMl72WzGyk3hVbzXeE2+g9bCzutDKbzcRoLUBfj6w4N6FjCVX8pqoBY7II2+185ZWpRYCUrb2i9LA+mKPFzulfH6PYJAIWmlId5mUqkvga9JKefkKvSwMB59BB6AAAAMAAAMAGzEAAAAeQZokbEL//oywAAADA7sX/GHSw7nrWtl+kjmAF96AAAAAFkGeQniEfwAAAwE1nrC/N1x5T5mIlVMAAAAWAZ5hdEf/AAADAeWH2ubcF4vVJwDu4AAAADcBnmNqR/8AAA2CM0D/YiXyCJd51hMpVFsABbwB5++ULKstBPUC4EQwtsdPaL0jfIv5vvWovfypAAAAuEGaaEmoQWiZTAhf//6MsAAARgHycEy6hwhTnmv0IAbrfH3eRuZ8FwnV1pnFYs6z07TjikMlrKmxoSy3678cICuKsyn3i2QhegB6gCgQpddn3o3IbNyObCwLpXUFazr6nlSYSOhQaPLaKjO9KVgXNIIKsMPgu3RpG44SYHEvIqcp8wlsSsgidPctjaO9ijt5f75HY/t475/ZrqPOq1hYZAZxIWfjH4m1JTgYb68hKyU4keW1rJSq1f0AAABCQZ6GRREsI/8AABazR851Yock7hVPvWIAbXvx/dWR7UDMoMRJLX7C4NS2jycWlaYm6jQjKn8UQWBenTmZdewbityRAAAAOQGepXRH/wAAI8MXWkM8/HOu7Ky545Cr8CJjlHk6cEen82gfgfBuDbx5pCkItt+Sk9lutDrhRN3tmQAAADABnqdqR/8AACOyKwehIF/sx3CHfEJ1MRm2aiaAVW47/QEi/XB/8BnsJzgSQNe5STAAAADbQZqsSahBbJlMCFf//jhAAAENkKUl1TxADcpzoL77DR87AL67jtngmfON00RC6OSQw5QtYlBdmWcRs9fCa6DEOUQeGfgOqeV7e2vUDAFk/c8tSkbI7LyiDNJBuYPj2pSWcMg1MUZNT18XhPqqnOkUcK5Ctrm/WDnslm/DGXJCkzdNgPBjzBZ+m3Vkr5q9rTsODS+2aT5vtMeKMbEf6jB0VdKe9LvjVUkDcfbOLKw8D4csAbNaUDYjzf9B1vEB6Kt1pw+PQ4q4A2xpD1Tok2Oil/mucYGfRsNmfV/AAAAAW0GeykUVLCP/AAAWnD+v14I1QsL+SWGRk2QWQpHa/pJAZK3fqHbSmjD4MQTlSa0ZxfGrlSU69kV/F8qIGfC3+qB1LzQAcMKhdCKvc/hAALpyF4rZFRklzzgtc+EAAAA7AZ7pdEf/AAAjwJrMZaK2RC+Hl+nIWz+ZSshglcs8n2lNcCnJjcQ0cxA1zUryXGinFLOelocC0K+SduAAAABDAZ7rakf/AAAjvYQeEi952ujZFROXWs8GVT+r7Kbwwnqe6EYlJCTum0TiRUwy/fBAAhCLWnxDqjYFzdD7KoFHqOfasAAAAHhBmu5JqEFsmUwUTCP//eEAAAQzXVSLtF+iaqYveQ7v9R8/JV3ozZmhk2J32zw71L9HSlk3bJWyJYrt4uvjOsS0Xb/bvzwsZoaQMP+gBKIVQTRvtCGw7z4hQfUwHvHpRZqTrMhI81HgQONWamXILDorx0aaABZOUYEAAABNAZ8Nakf/AAAkvYOt+3y1GvBduLXHezZvyz8Wsmgktq1cJTqHogprQxiRunQI+EsVmWCVBpE93qoeFxg/Li/xZgBLduefKyHqLzjFxYEAAABCQZsPSeEKUmUwI//8hAAAEEsHTUtxGbwguxmDZ113XQafl98Us+GWoVMq7s0VqHSzmUjl0WSfak3i28R/TjKTQGc9AAAD621vb3YAAABsbXZoZAAAAAAAAAAAAAAAAAAAA+gAAAFAAAEAAAEAAAAAAAAAAAAAAAABAAAAAAAAAAAAAAAAAAAAAQAAAAAAAAAAAAAAAAAAQAAAAAAAAAAAAAAAAAAAAAAAAAAAAAAAAAAAAAAAAAIAAAMVdHJhawAAAFx0a2hkAAAAAwAAAAAAAAAAAAAAAQAAAAAAAAFAAAAAAAAAAAAAAAAAAAAAAAABAAAAAAAAAAAAAAAAAAAAAQAAAAAAAAAAAAAAAAAAQAAAAAJYAAABkAAAAAAAJGVkdHMAAAAcZWxzdAAAAAAAAAABAAABQAAAAgAAAQAAAAACjW1kaWEAAAAgbWRoZAAAAAAAAAAAAAAAAAAAMgAAABAAVcQAAAAAAC1oZGxyAAAAAAAAAAB2aWRlAAAAAAAAAAAAAAAAVmlkZW9IYW5kbGVyAAAAAjhtaW5mAAAAFHZtaGQAAAABAAAAAAAAAAAAAAAkZGluZgAAABxkcmVmAAAAAAAAAAEAAAAMdXJsIAAAAAEAAAH4c3RibAAAALBzdHNkAAAAAAAAAAEAAACgYXZjMQAAAAAAAAABAAAAAAAAAAAAAAAAAAAAAAJYAZAASAAAAEgAAAAAAAAAAQAAAAAAAAAAAAAAAAAAAAAAAAAAAAAAAAAAAAAAAAAAABj//wAAADZhdmNDAWQAH//hABlnZAAfrNlAmDPl4QAAAwABAAADAGQPGDGWAQAGaOvjyyLA/fj4AAAAABRidHJ0AAAAAAAA8NIAAPDSAAAAGHN0dHMAAAAAAAAAAQAAABAAAAEAAAAAFHN0c3MAAAAAAAAAAQAAAAEAAACQY3R0cwAAAAAAAAAQAAAAAQAAAgAAAAABAAAFAAAAAAEAAAIAAAAAAQAAAAAAAAABAAABAAAAAAEAAAUAAAAAAQAAAgAAAAABAAAAAAAAAAEAAAEAAAAAAQAABQAAAAABAAACAAAAAAEAAAAAAAAAAQAAAQAAAAABAAADAAAAAAEAAAEAAAAAAQAAAgAAAAAcc3RzYwAAAAAAAAABAAAAAQAAABAAAAABAAAAVHN0c3oAAAAAAAAAAAAAABAAAATHAAAAIgAAABoAAAAaAAAAOwAAALwAAABGAAAAPQAAADQAAADfAAAAXwAAAD8AAABHAAAAfAAAAFEAAABGAAAAFHN0Y28AAAAAAAAAAQAAADAAAABidWR0YQAAAFptZXRhAAAAAAAAACFoZGxyAAAAAAAAAABtZGlyYXBwbAAAAAAAAAAAAAAAAC1pbHN0AAAAJal0b28AAAAdZGF0YQAAAAEAAAAATGF2ZjU4Ljc2LjEwMA==\" type=\"video/mp4\" />\n",
              "             </video>"
            ]
          },
          "metadata": {}
        }
      ]
    }
  ]
}